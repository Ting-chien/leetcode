{
 "cells": [
  {
   "cell_type": "markdown",
   "metadata": {},
   "source": [
    "# Linear Search"
   ]
  },
  {
   "cell_type": "code",
   "execution_count": 1,
   "metadata": {},
   "outputs": [],
   "source": [
    "data=[75,50,60,20,90,40,80]\n",
    "target=20\n",
    "\n",
    "def linear_search(arr, target):\n",
    "    for num in arr:\n",
    "        if num == target:\n",
    "            return \"YES\"\n",
    "    return \"NO\""
   ]
  },
  {
   "cell_type": "markdown",
   "metadata": {},
   "source": [
    "# Binary Search\n",
    "\n",
    "二分搜尋法(Binary Search )，在執行前有一項必須條件，資料列需要是已排序好的狀態，因此若資料龐大且未排序，需要先搭配使用前面幾天介紹的排序法，再來執行二分搜尋法。  \n",
    "\n",
    "原理是在已排序好的資料列中找出中間值，再將搜尋的目標值與中間值作比較，如果目標值小於中間值，則往左邊資料列尋找，如果目標值大於中間值，則往右邊資料列尋找，藉此判斷目標值在資料列左邊或是右邊，每一回都透過選擇中間值來比較來縮小一半搜尋範圍，再重複前面步驟，直到搜尋到或確定不存在為止。"
   ]
  },
  {
   "cell_type": "markdown",
   "metadata": {},
   "source": [
    "下面利用`10 15 25 40 45 55 60 80 90`搜尋55為例。\n",
    "\n",
    "<p align=\"center\">\n",
    "    <img src=\"img/binary-search.jpg\" width=600>\n",
    "</p>"
   ]
  },
  {
   "cell_type": "code",
   "execution_count": 5,
   "metadata": {},
   "outputs": [
    {
     "name": "stdout",
     "output_type": "stream",
     "text": [
      "YES\n"
     ]
    }
   ],
   "source": [
    "data = [10,15,25,40,45,55,60,80,90]\n",
    "target = 55\n",
    "\n",
    "def binary_search(arr, target):\n",
    "    left = 0\n",
    "    right = len(arr) - 1\n",
    "    while left <= right:\n",
    "        mid = (right + left) // 2\n",
    "        if arr[mid] == target:\n",
    "            return \"YES\"\n",
    "        elif arr[mid] < target:\n",
    "            left = mid + 1\n",
    "        else:\n",
    "            right = mid - 1\n",
    "    return \"NO\"\n",
    "\n",
    "print(binary_search(data, target))"
   ]
  },
  {
   "cell_type": "markdown",
   "metadata": {},
   "source": [
    "# Interpolation Search\n",
    "\n",
    "內插搜尋法(Interpolation Search  )，又稱插補搜尋法，是二分搜尋法的改良版，二分搜尋法是先找出中間值，而內插搜尋法是透過斜率公式來估出資料可能存在的位置，搜尋前也必須先將資料列排序好。\n",
    "\n",
    "<p align=\"center\">\n",
    "    <img src=\"img/interpolation-search.jpg\" width=600>\n",
    "</p>"
   ]
  },
  {
   "cell_type": "code",
   "execution_count": 7,
   "metadata": {},
   "outputs": [
    {
     "name": "stdout",
     "output_type": "stream",
     "text": [
      "YES\n"
     ]
    }
   ],
   "source": [
    "data = [10,20,30,40,50,60,70,80,90]\n",
    "target = 40\n",
    "\n",
    "def interpolation_search(arr, target):\n",
    "    left = 0\n",
    "    right = len(arr) - 1\n",
    "    while left <= right:\n",
    "        mid = left + ((target - arr[left]) * ((right - left) // (arr[right] - arr[left])))\n",
    "        if arr[mid] == target:\n",
    "            return \"YES\"\n",
    "        elif arr[mid] < target:\n",
    "            left = mid + 1\n",
    "        else:\n",
    "            right = mid - 1\n",
    "    return \"NO\"\n",
    "\n",
    "print(interpolation_search(data, target))\n"
   ]
  },
  {
   "cell_type": "code",
   "execution_count": null,
   "metadata": {},
   "outputs": [],
   "source": []
  }
 ],
 "metadata": {
  "interpreter": {
   "hash": "31f2aee4e71d21fbe5cf8b01ff0e069b9275f58929596ceb00d14d90e3e16cd6"
  },
  "kernelspec": {
   "display_name": "Python 3.8.10 64-bit",
   "language": "python",
   "name": "python3"
  },
  "language_info": {
   "codemirror_mode": {
    "name": "ipython",
    "version": 3
   },
   "file_extension": ".py",
   "mimetype": "text/x-python",
   "name": "python",
   "nbconvert_exporter": "python",
   "pygments_lexer": "ipython3",
   "version": "3.8.9"
  },
  "orig_nbformat": 4
 },
 "nbformat": 4,
 "nbformat_minor": 2
}
