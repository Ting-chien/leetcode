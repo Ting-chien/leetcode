{
 "cells": [
  {
   "cell_type": "markdown",
   "metadata": {},
   "source": [
    "# Bubble Sort\n",
    "\n",
    "氣泡排序法(Bubble Sort)又稱交換排序法，原理是從第一筆資料開始，逐一比較相鄰兩筆資料，如果兩筆大小順序有誤則做交換，反之則不動，接者再進行下一筆資料比較，所有資料比較完第1回合後，可以確保最後一筆資料是正確的位置。\n",
    "\n",
    "下面利用40 30 60 50 20由小到大排序。\n",
    "\n",
    "<!-- ![alt text](bubble-sort.jpg \"example\") -->\n",
    "<p align=\"center\">\n",
    "    <img src=\"img/bubble-sort.jpg\" width=600>\n",
    "</p>\n",
    "\n",
    "n=5  \n",
    "第1回合比較了4次，n-1次  \n",
    "第2回合比較了3次，n-2次  \n",
    "第3回合比較了2次，n-3次  \n",
    "第4回合比較了1次，n-4次  \n",
    "總共比較了4回合，n-1回合  \n",
    "\n",
    "(n-1) + (n-2) + .... + 1 = n(n-1) / 2  \n",
    "平均時間複雜度為: `O(n²)`"
   ]
  },
  {
   "cell_type": "code",
   "execution_count": 10,
   "metadata": {},
   "outputs": [
    {
     "name": "stdout",
     "output_type": "stream",
     "text": [
      "[23, 23, 29, 34, 55, 66, 67, 78, 78, 79, 88, 89, 92, 96, 96, 100]\n"
     ]
    }
   ],
   "source": [
    "# Test data\n",
    "data = [89, 34, 23, 78, 67, 100, 66, 29, 79, 55, 78, 88, 92, 96, 96, 23]\n",
    "\n",
    "def bubble_sort(data):\n",
    "    n = len(data)\n",
    "    for i in range(n, 0, -1):\n",
    "        for j in range(i-1):\n",
    "            if data[j] > data[j+1]:\n",
    "                data[j], data[j+1] = data[j+1], data[j]\n",
    "    return data\n",
    "\n",
    "sorted_data = bubble_sort(data)\n",
    "print(sorted_data)"
   ]
  },
  {
   "cell_type": "markdown",
   "metadata": {},
   "source": [
    "# Selection Sort\n",
    "\n",
    "選擇排序法(Selection Sort)，原理是反覆從未排序數列中找出最小值，將它與左邊的數做交換。可以有兩種方式排序，一為由大到小排序時，將最小值放到末端;若由小到大排序時，則將最小值放到前端。例如:未排序的數列中找到最小值的資料，和第1筆資料交換位置，再從剩下未排序的資料列中找到最小值的資料，和第2筆資料交換位置，以此類推。\n",
    "\n",
    "下面利用40 30 60 50 20由小到大排序。\n",
    "\n",
    "<p align=\"center\">\n",
    "    <img src=\"img/selection-sort.jpg\" width=600>\n",
    "</p>\n",
    "\n",
    "n=5  \n",
    "第1回合在4個數中找最小值，找4次，n-1次  \n",
    "第2回合在3個數中找最小值，找3次，n-2次  \n",
    "第3回合在2個數中找最小值，找2次，n-3次  \n",
    "第4回合在1個數中找最小值，找1次，n-4次  \n",
    "總共找了4回合，n-1回合  \n",
    "\n",
    "(n-1) + (n-2) + .... + 1 = n(n-1) / 2  \n",
    "平均時間複雜度為: `O(n²)`"
   ]
  },
  {
   "cell_type": "code",
   "execution_count": 9,
   "metadata": {},
   "outputs": [
    {
     "name": "stdout",
     "output_type": "stream",
     "text": [
      "[23, 23, 29, 34, 55, 66, 67, 78, 78, 79, 88, 89, 92, 96, 96, 100]\n"
     ]
    }
   ],
   "source": [
    "data = [89, 34, 23, 78, 67, 100, 66, 29, 79, 55, 78, 88, 92, 96, 96, 23]\n",
    "\n",
    "def selection_sort(data):\n",
    "    n = len(data)\n",
    "    for i in range(n-1):\n",
    "        key = data[i]\n",
    "        min_val = min(data[i:])\n",
    "        if key != min_val:\n",
    "            min_idx = data[i:].index(min_val)\n",
    "            data[i], data[min_idx+i] = min_val, key\n",
    "    return data\n",
    "\n",
    "sorted_data = selection_sort(data)\n",
    "print(sorted_data)"
   ]
  },
  {
   "cell_type": "markdown",
   "metadata": {},
   "source": [
    "# Insertion Sort\n",
    "\n",
    "入排序法(Insertion Sort)，原理是逐一將原始資料加入已排序好資料中，並逐一與已排序好的資料作比較，找到對的位置插入。例如:已有2筆排序好資料，將第3筆資料與前面已排序好的2筆資料作比較，找到對的位置插入，再將第4筆資料與前面已排序好的3筆資料作比較，找到對的位置插入，以此類推。\n",
    "\n",
    "<p align=\"center\">\n",
    "    <img src=\"img/insertion-sort.jpg\" width=600>\n",
    "</p>\n",
    "\n",
    "n=5  \n",
    "第2回合與1個數比較，比1次，n-4次  \n",
    "第3回合在2個數比較，比2次，n-3次  \n",
    "第3回合在2個數比較，比3次，n-2次  \n",
    "第4回合在1個數比較，比4次，n-1次  \n",
    "\n",
    "(n-1) + (n-2) + .... + 1 = n(n-1) / 2  \n",
    "平均時間複雜度為: `O(n²)`"
   ]
  },
  {
   "cell_type": "markdown",
   "metadata": {},
   "source": [
    "### Version1. Save data in another list"
   ]
  },
  {
   "cell_type": "code",
   "execution_count": 8,
   "metadata": {},
   "outputs": [
    {
     "name": "stdout",
     "output_type": "stream",
     "text": [
      "[23, 23, 29, 34, 55, 66, 67, 78, 78, 79, 88, 89, 92, 96, 96, 100]\n"
     ]
    }
   ],
   "source": [
    "data = [89, 34, 23, 78, 67, 100, 66, 29, 79, 55, 78, 88, 92, 96, 96, 23]\n",
    "\n",
    "def insertion_sort(data):\n",
    "    result = [data.pop()]\n",
    "    for i in range(len(data)):\n",
    "        insert_val = data[i]\n",
    "        for j in range(len(result)):\n",
    "            if insert_val > result[j]:\n",
    "                if j == len(result) - 1:\n",
    "                    result.append(insert_val)\n",
    "            else:\n",
    "                result.insert(j, insert_val)\n",
    "                break\n",
    "    return result\n",
    "    \n",
    "sorted_data = insertion_sort(data)\n",
    "print(sorted_data)"
   ]
  },
  {
   "cell_type": "markdown",
   "metadata": {},
   "source": [
    "### Version2. Manipulate data in the same list"
   ]
  },
  {
   "cell_type": "code",
   "execution_count": 10,
   "metadata": {},
   "outputs": [
    {
     "name": "stdout",
     "output_type": "stream",
     "text": [
      "[23, 23, 29, 34, 55, 66, 67, 78, 78, 79, 88, 89, 92, 96, 96, 100]\n"
     ]
    }
   ],
   "source": [
    "data = [89, 34, 23, 78, 67, 100, 66, 29, 79, 55, 78, 88, 92, 96, 96, 23]\n",
    "\n",
    "def insertion_sort(data):\n",
    "    n = len(data)\n",
    "    for i in range(n-1):\n",
    "        temp = data[i+1]\n",
    "        j = i\n",
    "        while j >= 0 and data[j] > temp:\n",
    "            data[j+1] = data[j]\n",
    "            j = j - 1\n",
    "        data[j+1] = temp\n",
    "    return data\n",
    "\n",
    "sorted_data = insertion_sort(data)\n",
    "print(sorted_data)"
   ]
  },
  {
   "cell_type": "markdown",
   "metadata": {},
   "source": [
    "# Shell Sort\n",
    "\n",
    "希爾排序法(Shell Sort)是插入排序(Insertion Sort)的改良版。可減少插入排序的資料搬移次數，加入了間距(Gap)的概念將資料分成多個小區塊，再將不同區塊資料進行插入排序，每一回合Gap會漸漸減少，最後一回Gap會是1。\n",
    "\n",
    "操作流程:\n",
    "\n",
    "- 由大到小制定數個間距(Gap)，最後一次的Gap一定要是1\n",
    "- 將資料依制定的間距(Gap)分組\n",
    "- 每組進行插入排序\n",
    "- 重複上述步驟，不斷減少Gap，直到最後一次Gap是1完成為止。\n",
    "\n",
    "間距(Gap)的選擇:\n",
    "\n",
    "發明人D.L Shell原先的Gap選擇為:N/2、N/4、...1(反覆除以2)，這邊用最初發明人為例，其他選擇可自行google研究。\n",
    "\n",
    "下面利用60 80 20 30 40 70 50 10由小到大排序。\n",
    "\n",
    "<p align=\"center\">\n",
    "    <img src=\"img/shell-sort.jpg\" width=600>\n",
    "</p>\n",
    "\n",
    "時間複雜度會因選用的GAP有所不同，但因為是插入排序改良版，幾乎所有狀況都能比O(n²)來得快。"
   ]
  },
  {
   "cell_type": "code",
   "execution_count": 12,
   "metadata": {},
   "outputs": [
    {
     "name": "stdout",
     "output_type": "stream",
     "text": [
      "[23, 23, 29, 34, 55, 66, 67, 78, 78, 79, 88, 89, 92, 96, 96, 100]\n"
     ]
    }
   ],
   "source": [
    "data = [89, 34, 23, 78, 67, 100, 66, 29, 79, 55, 78, 88, 92, 96, 96, 23]\n",
    "\n",
    "def shell_sort(data):\n",
    "    n = len(data)\n",
    "    gap = n // 2\n",
    "    while gap > 0:\n",
    "        for i in range(gap, n):\n",
    "            temp = data[i]\n",
    "            j = i\n",
    "            while j >= gap and data[j-gap] > temp:\n",
    "                data[j] = data[j-gap]\n",
    "                j = j - gap\n",
    "            data[j] = temp\n",
    "        gap = gap // 2\n",
    "    return data\n",
    "\n",
    "sorted_data = shell_sort(data)\n",
    "print(sorted_data)"
   ]
  },
  {
   "cell_type": "markdown",
   "metadata": {},
   "source": [
    "# Merge Sort\n",
    "\n",
    "合併排序法(Merge Sort)原理是會先將原始資料分割成兩個資料列，接著再將兩個資料繼續分割成兩個資料列，依此類推，直到無法再分割，也就是每組都只剩下一筆資料時，再兩兩合併各組資料，合併時也會進行該組排序，每次排序都是比較最左邊的資料，將較小的資料加到新的資料列中，依此類推，直到最後合併成一個排序好的資料列為止。"
   ]
  },
  {
   "cell_type": "markdown",
   "metadata": {},
   "source": [
    "下面利用30 10 40 70 50 90 60 20由小到大排序。\n",
    "\n",
    "<p align=\"center\">\n",
    "    <img src=\"img/merge-sort.jpg\" width=600>\n",
    "</p>\n",
    "\n",
    "時間複雜度 = 分割步驟數 + 合併步驟數\n",
    "- 分割：分割含有 n 個資料需要 n-1 次，O(n)。\n",
    "- 合併：合併的兩邊共用 n 個元素，每次都是比較最左邊的資料，將較小的加到新陣列中，因此每次排序與合併必須經過 n 次，每回合log n次，O(log n)。\n",
    "\n",
    "平均時間複雜度為: `O(n log n)`"
   ]
  },
  {
   "cell_type": "code",
   "execution_count": 16,
   "metadata": {},
   "outputs": [
    {
     "name": "stdout",
     "output_type": "stream",
     "text": [
      "[23, 23, 29, 34, 55, 66, 67, 78, 78, 79, 88, 89, 92, 96, 96, 100]\n"
     ]
    }
   ],
   "source": [
    "data = [89, 34, 23, 78, 67, 100, 66, 29, 79, 55, 78, 88, 92, 96, 96, 23]\n",
    "\n",
    "def merge_sort(data):\n",
    "\n",
    "    if len(data) < 2: return data\n",
    "\n",
    "    mid_idx = len(data) // 2\n",
    "    return merge(merge_sort(data[:mid_idx]), merge_sort(data[mid_idx:]))\n",
    "\n",
    "\n",
    "def merge(lhs_arr, rhs_arr):\n",
    "\n",
    "    result = []\n",
    "    while lhs_arr and rhs_arr:\n",
    "        if lhs_arr[0] < rhs_arr[0]:\n",
    "            result.append(lhs_arr.pop(0))\n",
    "        else:\n",
    "            result.append(rhs_arr.pop(0))\n",
    "\n",
    "    return result + lhs_arr + rhs_arr\n",
    "    \n",
    "sorted_data = merge_sort(data)\n",
    "print(sorted_data)"
   ]
  },
  {
   "cell_type": "markdown",
   "metadata": {},
   "source": [
    "# Quick Sort\n",
    "\n",
    "快速排序法(Quick Sort)又稱分割交換排序法，是目前公認效率極佳的演算法，使用了分治法(Divide and Conquer)的概念。原理是先從原始資料列中找一個基準值(Pivot)，接著逐一將資料與基準值比較，小於基準值的資料放在左邊，大於基準值的資料放在右邊，再將兩邊區塊分別再找出基準值，重複前面的步驟，直到排序完為止。\n",
    "\n",
    "常用的基準值(Pivot)選擇方式:\n",
    "\n",
    "- 選擇第1筆或最後1筆的資料\n",
    "- 隨機亂數\n",
    "- 三數中位數(Median-of-three)，第一、中間、最後筆資料，排序之後取中間的值(Musser, 1997)。例如: 1,5,9,6,3，取出1,9,3，排序後1,3,9，取3為基準點。\n",
    "\n",
    "平均時間複雜度為: `O(n log n)`"
   ]
  },
  {
   "cell_type": "markdown",
   "metadata": {},
   "source": [
    "### 遞迴版本\n",
    "\n",
    "此版本雖然容易理解，但會影響到空間複雜度，每次都需要申請兩個子數列的記憶體空間，遞迴的深度越多，需要記憶體空間就越大。\n",
    "\n",
    "操作流程:\n",
    "\n",
    "1. 資料列中找出一個基準值(Pivot)\n",
    "2. 將小於Pivot的資料放在左邊，大於Pivot的資料放在右邊\n",
    "3. 左右兩邊資料分別重複1~2步驟，直到剩下1筆資料\n",
    "4. 合併\n",
    "\n",
    "下面利用50 90 70 20 10 30 40 60 80由小到大排序。\n",
    "\n",
    "<p align=\"center\">\n",
    "    <img src=\"img/quick-sort-recursive.jpg\" width=600>\n",
    "</p>"
   ]
  },
  {
   "cell_type": "code",
   "execution_count": 3,
   "metadata": {},
   "outputs": [
    {
     "name": "stdout",
     "output_type": "stream",
     "text": [
      "[20, 10, 30, 40] 50 [90, 70, 60, 80]\n",
      "[10] 20 [30, 40]\n",
      "[] 30 [40]\n",
      "[70, 60, 80] 90 []\n",
      "[60] 70 [80]\n",
      "[10, 20, 30, 40, 50, 60, 70, 80, 90]\n"
     ]
    }
   ],
   "source": [
    "data = [50, 90, 70, 20, 10, 30, 40, 60, 80]\n",
    "\n",
    "def quick_sort(array):\n",
    "\n",
    "    if len(array) <= 1: return array\n",
    "\n",
    "    lhs_array = []\n",
    "    rhs_array = []\n",
    "    pivot = array[0]\n",
    "    for i in range(1, len(array)):\n",
    "        if array[i] > pivot:\n",
    "            rhs_array.append(array[i])\n",
    "        else:\n",
    "            lhs_array.append(array[i])\n",
    "            \n",
    "    return quick_sort(lhs_array) + [pivot] + quick_sort(rhs_array)\n",
    "\n",
    "sorted_data = quick_sort(data)\n",
    "print(sorted_data)"
   ]
  },
  {
   "cell_type": "markdown",
   "metadata": {},
   "source": [
    "# Radix Sort\n",
    "\n",
    "基數排序法(Radix Sort)，與前篇的桶排序都是非比較排序，也屬於「分配性」的排序方式，原理依據鍵值排序的方向又分為兩種:\n",
    "- LSD(Least Significant Digit First)： 從最右邊的位數開始排序\n",
    "- MSD(Most Significant Digit First)： 從最左邊的位數開始排序\n",
    "\n",
    "排序流程(LSD為例):\n",
    "1. 取得每個資料位數(最小開始)的值\n",
    "2. 依該位數大小排序資料\n",
    "3. 取得下一個位數進行比較，重複1~2步驟，直到所有位數都排序完為止"
   ]
  },
  {
   "cell_type": "markdown",
   "metadata": {},
   "source": [
    "下面利用 `28 96 5 33 60 169 170 249 362 44 84 123` 由小到大排序(使用LSD為例)，從最右邊位數開始排序: 個位數 > 十位數 > 百位數，而若都是十進位的數，可以產生0~9的空陣列來進行分配排序\n",
    "\n",
    "<p align=\"center\">\n",
    "    <img src=\"img/radix-sort.jpg\" width=600>\n",
    "</p>"
   ]
  },
  {
   "cell_type": "code",
   "execution_count": 18,
   "metadata": {},
   "outputs": [
    {
     "name": "stdout",
     "output_type": "stream",
     "text": [
      "[5, 28, 33, 44, 60, 84, 96, 123, 169, 170, 249, 362]\n"
     ]
    }
   ],
   "source": [
    "data = [28, 96, 5, 33, 60, 169, 170, 249, 362, 44, 84, 123]\n",
    "\n",
    "def radix_sort(arr):\n",
    "    # Get digits need to be count\n",
    "    max_num = max(arr)\n",
    "    digits = 1\n",
    "    while max_num//(10**digits) > 0:\n",
    "        digits += 1\n",
    "    for i in range(digits):\n",
    "        # Make buckets for each number of digits\n",
    "        buckets = [[] for x in range(10)]\n",
    "        # Put elements in arr to buckets\n",
    "        for num in arr:\n",
    "            radix = num//(10**i)%10\n",
    "            buckets[radix].append(num)\n",
    "        # Sort element in arr by the number of digits\n",
    "        index = 0\n",
    "        for bucket in buckets:\n",
    "            for num in bucket:\n",
    "                arr[index] = num\n",
    "                index += 1\n",
    "\n",
    "    return arr\n",
    "\n",
    "print(radix_sort(data))"
   ]
  },
  {
   "cell_type": "markdown",
   "metadata": {},
   "source": [
    "# Bucket Sort\n",
    "\n",
    "桶排序法(Bucket Sort)，與前面幾篇的排序法不一樣，前面都是經由兩兩互相比較而成的排序，稱為比較排序法，而桶排序是非比較排序，屬於「分配性」的排序。原理是先準備幾個桶子，每個桶子都是有限的固定區間，再將待排序的資料分配到對應區間的桶子中，接著每個桶再個別排序（可以使用別的排序演算法），最後再依序收集排序好的資料。如果記憶體更大的話, 可以使用增加桶子的數量來降低區間，這樣將可以減少排序的次數，所以桶排序是一種可以用空間來換時間的排序法。\n",
    "\n",
    "操作流程:\n",
    "\n",
    "1. 設定定量的空桶子\n",
    "2. 走訪原始資料並分配到對應桶子中\n",
    "3. 對每個不是空的桶子進行排序\n",
    "4. 依序從不是空的桶子中，把排序好資料收集回來"
   ]
  },
  {
   "cell_type": "markdown",
   "metadata": {},
   "source": [
    "下面利用`9 15 12 23 33 26 7 31 42 36`由小到大排序\n",
    "\n",
    "<p align=\"center\">\n",
    "    <img src=\"img/bucket-sort.jpg\" width=600>\n",
    "</p>"
   ]
  },
  {
   "cell_type": "code",
   "execution_count": 25,
   "metadata": {},
   "outputs": [
    {
     "name": "stdout",
     "output_type": "stream",
     "text": [
      "[7, 9, 12, 15, 23, 26, 31, 33, 36, 42]\n"
     ]
    }
   ],
   "source": [
    "data = [9, 15, 12, 23, 33, 26, 7, 31, 42, 36]\n",
    "\n",
    "def bucket_sort(arr):\n",
    "    # Calculate how many bucket to use\n",
    "    max_num = max(arr)\n",
    "    min_num = min(arr)\n",
    "    size = 5\n",
    "    buckets = [[] for x in range((max_num-min_num)//size+1)]\n",
    "    # Put each elements into bucket\n",
    "    for num in arr:\n",
    "        buckets[(num-min_num)//size].append(num)\n",
    "    # Sort number in each bucket and add to result\n",
    "    result = []\n",
    "    for bucket in buckets:\n",
    "        sorted_bucket = sorted(bucket)\n",
    "        result += sorted_bucket\n",
    "\n",
    "    return result\n",
    "\n",
    "print(bucket_sort(data))"
   ]
  },
  {
   "cell_type": "code",
   "execution_count": null,
   "metadata": {},
   "outputs": [],
   "source": []
  }
 ],
 "metadata": {
  "interpreter": {
   "hash": "31f2aee4e71d21fbe5cf8b01ff0e069b9275f58929596ceb00d14d90e3e16cd6"
  },
  "kernelspec": {
   "display_name": "Python 3.8.10 64-bit",
   "language": "python",
   "name": "python3"
  },
  "language_info": {
   "codemirror_mode": {
    "name": "ipython",
    "version": 3
   },
   "file_extension": ".py",
   "mimetype": "text/x-python",
   "name": "python",
   "nbconvert_exporter": "python",
   "pygments_lexer": "ipython3",
   "version": "3.8.9"
  },
  "orig_nbformat": 4
 },
 "nbformat": 4,
 "nbformat_minor": 2
}
